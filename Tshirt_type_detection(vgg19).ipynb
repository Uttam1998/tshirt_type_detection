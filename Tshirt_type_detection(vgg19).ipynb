{
  "nbformat": 4,
  "nbformat_minor": 0,
  "metadata": {
    "colab": {
      "name": "Tshirt_type_detection(vgg19).ipynb",
      "provenance": [],
      "authorship_tag": "ABX9TyOq8ilHdQcpkj2A9B4n/sXT",
      "include_colab_link": true
    },
    "kernelspec": {
      "name": "python3",
      "display_name": "Python 3"
    },
    "accelerator": "GPU"
  },
  "cells": [
    {
      "cell_type": "markdown",
      "metadata": {
        "id": "view-in-github",
        "colab_type": "text"
      },
      "source": [
        "<a href=\"https://colab.research.google.com/github/Uttam1998/tshirt_type_detection/blob/main/Tshirt_type_detection(vgg19).ipynb\" target=\"_parent\"><img src=\"https://colab.research.google.com/assets/colab-badge.svg\" alt=\"Open In Colab\"/></a>"
      ]
    },
    {
      "cell_type": "code",
      "metadata": {
        "colab": {
          "base_uri": "https://localhost:8080/"
        },
        "id": "lf9wSS4o_qAU",
        "outputId": "353f4e7d-08f2-49f9-e794-e5caa5b3cc98"
      },
      "source": [
        "from google.colab import drive\r\n",
        "drive.mount('/content/drive')"
      ],
      "execution_count": 1,
      "outputs": [
        {
          "output_type": "stream",
          "text": [
            "Mounted at /content/drive\n"
          ],
          "name": "stdout"
        }
      ]
    },
    {
      "cell_type": "code",
      "metadata": {
        "id": "rotxm3KEAXfr"
      },
      "source": [
        "from tensorflow.compat.v1 import ConfigProto\r\n",
        "from tensorflow.compat.v1 import InteractiveSession\r\n",
        "\r\n",
        "config = ConfigProto()\r\n",
        "config.gpu_options.per_process_gpu_memory_fraction = 0.5\r\n",
        "config.gpu_options.allow_growth = True\r\n",
        "session = InteractiveSession(config=config)"
      ],
      "execution_count": 2,
      "outputs": []
    },
    {
      "cell_type": "code",
      "metadata": {
        "id": "YD74W0HbAXdr"
      },
      "source": [
        "# import the libraries as shown below\r\n",
        "\r\n",
        "from tensorflow.keras.layers import Input, Lambda, Dense, Flatten\r\n",
        "from tensorflow.keras.models import Model\r\n",
        "from tensorflow.keras.applications.inception_v3 import InceptionV3\r\n",
        "#from keras.applications.vgg16 import VGG16\r\n",
        "from tensorflow.keras.applications.inception_v3 import preprocess_input\r\n",
        "from tensorflow.keras.preprocessing import image\r\n",
        "from tensorflow.keras.preprocessing.image import ImageDataGenerator,load_img\r\n",
        "from tensorflow.keras.models import Sequential\r\n",
        "import numpy as np\r\n",
        "from glob import glob\r\n",
        "#import matplotlib.pyplot as plt"
      ],
      "execution_count": 3,
      "outputs": []
    },
    {
      "cell_type": "code",
      "metadata": {
        "id": "KP_1FwN7AXbL"
      },
      "source": [
        "# re-size all the images to this\r\n",
        "IMAGE_SIZE = [224, 224]\r\n",
        "\r\n",
        "train_path = '/content/drive/MyDrive/data/train'\r\n",
        "valid_path = '/content/drive/MyDrive/data/test'"
      ],
      "execution_count": 4,
      "outputs": []
    },
    {
      "cell_type": "code",
      "metadata": {
        "id": "M9pmt96kAXYO"
      },
      "source": [
        "from tensorflow.keras.applications.vgg19 import VGG19"
      ],
      "execution_count": 5,
      "outputs": []
    },
    {
      "cell_type": "code",
      "metadata": {
        "colab": {
          "base_uri": "https://localhost:8080/"
        },
        "id": "4BIxfhoBAXV3",
        "outputId": "5de472dc-282b-45bd-dba8-88f284ab58e2"
      },
      "source": [
        "vg19 = VGG19(input_shape=IMAGE_SIZE + [3], weights=\"imagenet\", include_top=False)"
      ],
      "execution_count": 7,
      "outputs": [
        {
          "output_type": "stream",
          "text": [
            "Downloading data from https://storage.googleapis.com/tensorflow/keras-applications/vgg19/vgg19_weights_tf_dim_ordering_tf_kernels_notop.h5\n",
            "80142336/80134624 [==============================] - 0s 0us/step\n"
          ],
          "name": "stdout"
        }
      ]
    },
    {
      "cell_type": "code",
      "metadata": {
        "id": "gzLozvP8AXTc"
      },
      "source": [
        "for layer in vg19.layers:\r\n",
        "    layer.trainable = False"
      ],
      "execution_count": 8,
      "outputs": []
    },
    {
      "cell_type": "code",
      "metadata": {
        "id": "RSmfbjTzAXQC"
      },
      "source": [
        "x = Flatten()(vg19.output)"
      ],
      "execution_count": 9,
      "outputs": []
    },
    {
      "cell_type": "code",
      "metadata": {
        "id": "UHTyAW9kA7In"
      },
      "source": [
        "# useful for getting number of output classes\r\n",
        "folders = glob('/content/drive/MyDrive/data/train/*')"
      ],
      "execution_count": 11,
      "outputs": []
    },
    {
      "cell_type": "code",
      "metadata": {
        "id": "P_LfCvALAXNm"
      },
      "source": [
        "prediction = Dense(len(folders), activation=\"softmax\")(x)\r\n",
        "\r\n",
        "modelvg = Model(inputs=vg19.input, outputs=prediction)"
      ],
      "execution_count": 12,
      "outputs": []
    },
    {
      "cell_type": "code",
      "metadata": {
        "colab": {
          "base_uri": "https://localhost:8080/"
        },
        "id": "5fmmR5B2AXLW",
        "outputId": "94333fcf-99d2-49df-a713-2e20ec9d1cc5"
      },
      "source": [
        "modelvg.summary()"
      ],
      "execution_count": 13,
      "outputs": [
        {
          "output_type": "stream",
          "text": [
            "Model: \"model\"\n",
            "_________________________________________________________________\n",
            "Layer (type)                 Output Shape              Param #   \n",
            "=================================================================\n",
            "input_1 (InputLayer)         [(None, 224, 224, 3)]     0         \n",
            "_________________________________________________________________\n",
            "block1_conv1 (Conv2D)        (None, 224, 224, 64)      1792      \n",
            "_________________________________________________________________\n",
            "block1_conv2 (Conv2D)        (None, 224, 224, 64)      36928     \n",
            "_________________________________________________________________\n",
            "block1_pool (MaxPooling2D)   (None, 112, 112, 64)      0         \n",
            "_________________________________________________________________\n",
            "block2_conv1 (Conv2D)        (None, 112, 112, 128)     73856     \n",
            "_________________________________________________________________\n",
            "block2_conv2 (Conv2D)        (None, 112, 112, 128)     147584    \n",
            "_________________________________________________________________\n",
            "block2_pool (MaxPooling2D)   (None, 56, 56, 128)       0         \n",
            "_________________________________________________________________\n",
            "block3_conv1 (Conv2D)        (None, 56, 56, 256)       295168    \n",
            "_________________________________________________________________\n",
            "block3_conv2 (Conv2D)        (None, 56, 56, 256)       590080    \n",
            "_________________________________________________________________\n",
            "block3_conv3 (Conv2D)        (None, 56, 56, 256)       590080    \n",
            "_________________________________________________________________\n",
            "block3_conv4 (Conv2D)        (None, 56, 56, 256)       590080    \n",
            "_________________________________________________________________\n",
            "block3_pool (MaxPooling2D)   (None, 28, 28, 256)       0         \n",
            "_________________________________________________________________\n",
            "block4_conv1 (Conv2D)        (None, 28, 28, 512)       1180160   \n",
            "_________________________________________________________________\n",
            "block4_conv2 (Conv2D)        (None, 28, 28, 512)       2359808   \n",
            "_________________________________________________________________\n",
            "block4_conv3 (Conv2D)        (None, 28, 28, 512)       2359808   \n",
            "_________________________________________________________________\n",
            "block4_conv4 (Conv2D)        (None, 28, 28, 512)       2359808   \n",
            "_________________________________________________________________\n",
            "block4_pool (MaxPooling2D)   (None, 14, 14, 512)       0         \n",
            "_________________________________________________________________\n",
            "block5_conv1 (Conv2D)        (None, 14, 14, 512)       2359808   \n",
            "_________________________________________________________________\n",
            "block5_conv2 (Conv2D)        (None, 14, 14, 512)       2359808   \n",
            "_________________________________________________________________\n",
            "block5_conv3 (Conv2D)        (None, 14, 14, 512)       2359808   \n",
            "_________________________________________________________________\n",
            "block5_conv4 (Conv2D)        (None, 14, 14, 512)       2359808   \n",
            "_________________________________________________________________\n",
            "block5_pool (MaxPooling2D)   (None, 7, 7, 512)         0         \n",
            "_________________________________________________________________\n",
            "flatten (Flatten)            (None, 25088)             0         \n",
            "_________________________________________________________________\n",
            "dense (Dense)                (None, 4)                 100356    \n",
            "=================================================================\n",
            "Total params: 20,124,740\n",
            "Trainable params: 100,356\n",
            "Non-trainable params: 20,024,384\n",
            "_________________________________________________________________\n"
          ],
          "name": "stdout"
        }
      ]
    },
    {
      "cell_type": "code",
      "metadata": {
        "id": "iuZg-5_hAXJA"
      },
      "source": [
        "modelvg.compile(loss=\"categorical_crossentropy\", metrics=[\"accuracy\"], optimizer=\"adam\")"
      ],
      "execution_count": 14,
      "outputs": []
    },
    {
      "cell_type": "code",
      "metadata": {
        "id": "jGw9kw_5AXGd"
      },
      "source": [
        "train_datagen_vg19 = ImageDataGenerator(rescale=1./255,\r\n",
        "                                  shear_range=0.2,\r\n",
        "                                  zoom_range=0.2,\r\n",
        "                                  horizontal_flip=True)\r\n",
        "\r\n",
        "test_datagen_vg19 = ImageDataGenerator(rescale=1./255)"
      ],
      "execution_count": 15,
      "outputs": []
    },
    {
      "cell_type": "code",
      "metadata": {
        "colab": {
          "base_uri": "https://localhost:8080/"
        },
        "id": "G0tTfUaCAXDq",
        "outputId": "78865a15-5db9-4a34-8f07-33dcbeead2e2"
      },
      "source": [
        "trainning_set_vg19 = train_datagen_vg19.flow_from_directory(train_path,\r\n",
        "                                                 target_size=(224, 224),\r\n",
        "                                                 batch_size=32,\r\n",
        "                                                 class_mode=\"categorical\")"
      ],
      "execution_count": 16,
      "outputs": [
        {
          "output_type": "stream",
          "text": [
            "Found 2875 images belonging to 4 classes.\n"
          ],
          "name": "stdout"
        }
      ]
    },
    {
      "cell_type": "code",
      "metadata": {
        "colab": {
          "base_uri": "https://localhost:8080/"
        },
        "id": "QoCid6YoAXBM",
        "outputId": "1e69e8bc-0c7c-4f5b-8070-21c8c8109081"
      },
      "source": [
        "testing_set_vg19 = test_datagen_vg19.flow_from_directory(valid_path,\r\n",
        "                                                 target_size=(224, 224),\r\n",
        "                                                 batch_size=32,\r\n",
        "                                                 class_mode=\"categorical\")"
      ],
      "execution_count": 18,
      "outputs": [
        {
          "output_type": "stream",
          "text": [
            "Found 500 images belonging to 4 classes.\n"
          ],
          "name": "stdout"
        }
      ]
    },
    {
      "cell_type": "code",
      "metadata": {
        "colab": {
          "base_uri": "https://localhost:8080/"
        },
        "id": "tmm6bupXAW86",
        "outputId": "279593ca-0ae0-47c6-b359-8461764fb486"
      },
      "source": [
        "r_vg19 = modelvg.fit_generator(trainning_set_vg19,\r\n",
        "                       validation_data=testing_set_vg19,\r\n",
        "                       epochs=10,\r\n",
        "                       steps_per_epoch=len(trainning_set_vg19),\r\n",
        "                       validation_steps=len(testing_set_vg19)\r\n",
        "                       )"
      ],
      "execution_count": 19,
      "outputs": [
        {
          "output_type": "stream",
          "text": [
            "/usr/local/lib/python3.7/dist-packages/tensorflow/python/keras/engine/training.py:1844: UserWarning: `Model.fit_generator` is deprecated and will be removed in a future version. Please use `Model.fit`, which supports generators.\n",
            "  warnings.warn('`Model.fit_generator` is deprecated and '\n"
          ],
          "name": "stderr"
        },
        {
          "output_type": "stream",
          "text": [
            "Epoch 1/10\n",
            "90/90 [==============================] - 807s 9s/step - loss: 1.4312 - accuracy: 0.5241 - val_loss: 0.6290 - val_accuracy: 0.7620\n",
            "Epoch 2/10\n",
            "90/90 [==============================] - 37s 413ms/step - loss: 0.4963 - accuracy: 0.8169 - val_loss: 0.5160 - val_accuracy: 0.8020\n",
            "Epoch 3/10\n",
            "90/90 [==============================] - 37s 413ms/step - loss: 0.4405 - accuracy: 0.8392 - val_loss: 0.4669 - val_accuracy: 0.8240\n",
            "Epoch 4/10\n",
            "90/90 [==============================] - 37s 413ms/step - loss: 0.3617 - accuracy: 0.8739 - val_loss: 0.5950 - val_accuracy: 0.7600\n",
            "Epoch 5/10\n",
            "90/90 [==============================] - 37s 415ms/step - loss: 0.2759 - accuracy: 0.9030 - val_loss: 0.6103 - val_accuracy: 0.8040\n",
            "Epoch 6/10\n",
            "90/90 [==============================] - 37s 416ms/step - loss: 0.2516 - accuracy: 0.9148 - val_loss: 0.7379 - val_accuracy: 0.7760\n",
            "Epoch 7/10\n",
            "90/90 [==============================] - 37s 413ms/step - loss: 0.2439 - accuracy: 0.9037 - val_loss: 0.4376 - val_accuracy: 0.8400\n",
            "Epoch 8/10\n",
            "90/90 [==============================] - 38s 416ms/step - loss: 0.1947 - accuracy: 0.9308 - val_loss: 0.5096 - val_accuracy: 0.8040\n",
            "Epoch 9/10\n",
            "90/90 [==============================] - 37s 414ms/step - loss: 0.1771 - accuracy: 0.9458 - val_loss: 0.4378 - val_accuracy: 0.8360\n",
            "Epoch 10/10\n",
            "90/90 [==============================] - 38s 416ms/step - loss: 0.1510 - accuracy: 0.9549 - val_loss: 0.4530 - val_accuracy: 0.8300\n"
          ],
          "name": "stdout"
        }
      ]
    },
    {
      "cell_type": "code",
      "metadata": {
        "colab": {
          "base_uri": "https://localhost:8080/"
        },
        "id": "deuFG8UXAW6S",
        "outputId": "c4a29007-005a-4be8-c0a8-d5d0b5cebe81"
      },
      "source": [
        "y_pred = modelvg.predict(testing_set_vg19)\r\n",
        "y_pred"
      ],
      "execution_count": 20,
      "outputs": [
        {
          "output_type": "execute_result",
          "data": {
            "text/plain": [
              "array([[9.9165654e-01, 7.5576075e-08, 4.0448532e-03, 4.2984756e-03],\n",
              "       [2.7664660e-02, 4.6528065e-01, 1.0271713e-01, 4.0433753e-01],\n",
              "       [6.9278038e-05, 9.8215733e-06, 8.7126801e-03, 9.9120820e-01],\n",
              "       ...,\n",
              "       [1.0729419e-05, 1.8634013e-05, 7.2472083e-04, 9.9924588e-01],\n",
              "       [2.7421381e-02, 9.3444665e-05, 6.6289879e-02, 9.0619540e-01],\n",
              "       [1.2520791e-03, 9.4124806e-01, 4.8474218e-03, 5.2652355e-02]],\n",
              "      dtype=float32)"
            ]
          },
          "metadata": {
            "tags": []
          },
          "execution_count": 20
        }
      ]
    },
    {
      "cell_type": "code",
      "metadata": {
        "colab": {
          "base_uri": "https://localhost:8080/"
        },
        "id": "DXMRDxCJAW3S",
        "outputId": "b1ffdbda-bee3-431e-cb52-a89acff93a4b"
      },
      "source": [
        "y_pred = np.argmax(y_pred, axis=1)\r\n",
        "y_pred"
      ],
      "execution_count": 21,
      "outputs": [
        {
          "output_type": "execute_result",
          "data": {
            "text/plain": [
              "array([0, 1, 3, 2, 2, 1, 2, 0, 3, 3, 2, 3, 3, 3, 1, 2, 1, 0, 2, 3, 1, 0,\n",
              "       3, 2, 3, 3, 3, 1, 3, 0, 3, 1, 3, 0, 0, 3, 2, 1, 3, 2, 3, 1, 0, 3,\n",
              "       3, 2, 3, 0, 2, 2, 2, 3, 3, 3, 2, 3, 0, 2, 2, 2, 3, 0, 3, 3, 0, 1,\n",
              "       2, 3, 3, 2, 2, 0, 3, 1, 1, 3, 1, 3, 1, 0, 3, 3, 3, 2, 3, 1, 3, 3,\n",
              "       0, 3, 2, 2, 1, 1, 2, 1, 0, 2, 3, 3, 1, 0, 3, 3, 3, 0, 1, 0, 3, 0,\n",
              "       3, 3, 0, 0, 2, 0, 3, 3, 0, 1, 2, 1, 3, 2, 2, 1, 1, 3, 0, 3, 2, 0,\n",
              "       1, 3, 1, 0, 2, 1, 3, 1, 3, 2, 3, 3, 0, 3, 0, 0, 1, 3, 1, 3, 0, 3,\n",
              "       3, 2, 2, 3, 3, 3, 1, 3, 1, 1, 3, 1, 0, 3, 0, 0, 3, 0, 0, 2, 1, 2,\n",
              "       1, 3, 3, 3, 0, 3, 3, 0, 3, 3, 3, 3, 2, 3, 3, 2, 1, 3, 3, 3, 2, 3,\n",
              "       3, 0, 2, 0, 3, 2, 3, 0, 3, 3, 3, 3, 0, 3, 3, 3, 3, 0, 2, 3, 1, 0,\n",
              "       3, 1, 2, 1, 3, 2, 3, 0, 3, 0, 3, 3, 0, 0, 3, 2, 0, 3, 3, 3, 3, 1,\n",
              "       1, 2, 3, 3, 2, 0, 1, 3, 1, 1, 2, 3, 3, 1, 3, 3, 2, 1, 3, 0, 3, 0,\n",
              "       0, 2, 2, 3, 0, 0, 2, 2, 1, 0, 2, 3, 1, 1, 0, 1, 3, 3, 3, 2, 1, 3,\n",
              "       3, 2, 3, 3, 1, 0, 3, 1, 3, 1, 3, 2, 3, 0, 1, 3, 3, 2, 0, 2, 3, 1,\n",
              "       2, 3, 0, 3, 0, 0, 3, 3, 3, 0, 3, 1, 3, 0, 3, 0, 0, 2, 0, 2, 0, 1,\n",
              "       3, 2, 1, 2, 1, 3, 3, 0, 0, 1, 2, 3, 1, 2, 0, 1, 2, 3, 2, 1, 1, 3,\n",
              "       2, 3, 0, 3, 1, 3, 2, 3, 3, 3, 2, 3, 2, 3, 3, 3, 3, 3, 1, 3, 2, 0,\n",
              "       0, 3, 3, 1, 2, 3, 0, 0, 3, 2, 0, 2, 0, 2, 1, 3, 0, 3, 1, 0, 2, 0,\n",
              "       3, 3, 1, 0, 3, 3, 3, 3, 3, 3, 0, 2, 1, 0, 0, 2, 3, 3, 3, 0, 2, 2,\n",
              "       3, 2, 3, 1, 0, 2, 1, 1, 2, 1, 3, 2, 3, 0, 3, 2, 3, 3, 0, 0, 2, 0,\n",
              "       3, 2, 1, 3, 3, 3, 3, 3, 3, 0, 3, 2, 2, 0, 3, 3, 0, 3, 3, 0, 1, 3,\n",
              "       3, 3, 1, 3, 1, 3, 3, 2, 0, 3, 3, 1, 2, 3, 0, 2, 0, 3, 1, 0, 3, 3,\n",
              "       3, 2, 3, 2, 3, 3, 3, 1, 3, 1, 3, 2, 2, 3, 3, 1])"
            ]
          },
          "metadata": {
            "tags": []
          },
          "execution_count": 21
        }
      ]
    },
    {
      "cell_type": "code",
      "metadata": {
        "colab": {
          "base_uri": "https://localhost:8080/"
        },
        "id": "Dt1R5k-GHHOD",
        "outputId": "389a861d-1f68-4e7d-d9fe-66df09bc82a5"
      },
      "source": [
        "class_dict = trainning_set_vg19.class_indices\r\n",
        "class_dict"
      ],
      "execution_count": 24,
      "outputs": [
        {
          "output_type": "execute_result",
          "data": {
            "text/plain": [
              "{'Full_Sleeves': 0, 'Polo_Tshirt': 1, 'round': 2, 'sleeveless': 3}"
            ]
          },
          "metadata": {
            "tags": []
          },
          "execution_count": 24
        }
      ]
    },
    {
      "cell_type": "code",
      "metadata": {
        "colab": {
          "base_uri": "https://localhost:8080/"
        },
        "id": "9R9E1RsNGyOI",
        "outputId": "54e68222-679f-4d3d-93fe-579a89caaa15"
      },
      "source": [
        "modelvg.save(\"vgg_19tl.model\")"
      ],
      "execution_count": 22,
      "outputs": [
        {
          "output_type": "stream",
          "text": [
            "INFO:tensorflow:Assets written to: vgg_19tl.model/assets\n"
          ],
          "name": "stdout"
        }
      ]
    },
    {
      "cell_type": "code",
      "metadata": {
        "id": "VK8TEPfZGyLv"
      },
      "source": [
        "import cv2\r\n",
        "import tensorflow as tf\r\n",
        "def prepare(filepath):\r\n",
        "    img_array = cv2.imread(filepath, cv2.IMREAD_COLOR)\r\n",
        "    img_array = img_array / 255\r\n",
        "    new_array = cv2.resize(img_array, (224, 224))\r\n",
        "    return new_array.reshape(-1, 224, 224, 3)\r\n",
        "\r\n",
        "model = tf.keras.models.load_model(\"vgg_19tl.model\")"
      ],
      "execution_count": 23,
      "outputs": []
    },
    {
      "cell_type": "code",
      "metadata": {
        "colab": {
          "base_uri": "https://localhost:8080/"
        },
        "id": "20v7aICDGyJQ",
        "outputId": "d5a7d003-7b6f-4158-9e6f-b2448e1a027b"
      },
      "source": [
        "prediction = model.predict([prepare(\"/content/polo1.jpg\")])\r\n",
        "np.argmax(prediction)"
      ],
      "execution_count": 28,
      "outputs": [
        {
          "output_type": "execute_result",
          "data": {
            "text/plain": [
              "1"
            ]
          },
          "metadata": {
            "tags": []
          },
          "execution_count": 28
        }
      ]
    },
    {
      "cell_type": "code",
      "metadata": {
        "colab": {
          "base_uri": "https://localhost:8080/"
        },
        "id": "v49R31uIGyGp",
        "outputId": "2765edb9-781a-47ce-ae93-abb496223d77"
      },
      "source": [
        "if np.argmax(prediction) == 0:\r\n",
        "    print(\"Full_Sleeves\")\r\n",
        "elif np.argmax(prediction) == 1:\r\n",
        "    print(\"Polo_Tshirt\")\r\n",
        "elif np.argmax(prediction) == 2:\r\n",
        "    print(\"round\")\r\n",
        "else:\r\n",
        "    print(\"sleeveless\")"
      ],
      "execution_count": 29,
      "outputs": [
        {
          "output_type": "stream",
          "text": [
            "Polo_Tshirt\n"
          ],
          "name": "stdout"
        }
      ]
    },
    {
      "cell_type": "code",
      "metadata": {
        "id": "AzVYeW3FGyEI"
      },
      "source": [
        ""
      ],
      "execution_count": null,
      "outputs": []
    },
    {
      "cell_type": "code",
      "metadata": {
        "id": "ack5cCc_GyBO"
      },
      "source": [
        ""
      ],
      "execution_count": null,
      "outputs": []
    }
  ]
}